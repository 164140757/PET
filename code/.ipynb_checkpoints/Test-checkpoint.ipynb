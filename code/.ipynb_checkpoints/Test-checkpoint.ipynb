{
 "cells": [
  {
   "cell_type": "markdown",
   "metadata": {},
   "source": [
    "# 摘要"
   ]
  },
  {
   "cell_type": "markdown",
   "metadata": {},
   "source": [
    "在这个部分开始，我将用简要的文字和代码来描述自己对于Pyramidomics的探索，接下来，我将为技术相关成员分配一定的任务，目的是了解一下内容：\n",
    "* 提取什么图像特征\n",
    "\n",
    "这可以参考feature extraction论文，和其他材料（必需）来找到精神类疾病有关的图像特征，供前期设计，后期验证需要。\n",
    "* 怎样筛选特征\n",
    "\n",
    "同参考上面论文，仔细阅读Pyradiomics相关文档，https://pyradiomics.readthedocs.io/en/latest/ 中关于特征过滤，转化等信息。\n"
   ]
  },
  {
   "cell_type": "markdown",
   "metadata": {},
   "source": [
    "# 安装pyradiomics\n"
   ]
  },
  {
   "cell_type": "markdown",
   "metadata": {},
   "source": [
    "* 升级conda所有包\n",
    "  \n",
    "  \n",
    "    "
   ]
  },
  {
   "cell_type": "markdown",
   "metadata": {},
   "source": [
    "```\n",
    "conda update --all\n",
    "```"
   ]
  },
  {
   "cell_type": "markdown",
   "metadata": {},
   "source": [
    "* 创建新的虚拟环境\n",
    "\n",
    "这是为了区分自己平时使用的python环境,命令行"
   ]
  },
  {
   "cell_type": "markdown",
   "metadata": {},
   "source": [
    "```\n",
    "conda create -n pyRadiomics python=3.8\n",
    "conda activate pyRadiomics\n",
    "python -m pip install pyradiomics\n",
    "```"
   ]
  },
  {
   "cell_type": "markdown",
   "metadata": {},
   "source": [
    "\n"
   ]
  },
  {
   "cell_type": "markdown",
   "metadata": {},
   "source": [
    "如果任然有下载速度慢的问题，请参考https://blog.csdn.net/li_k_y/article/details/105204253\n",
    "修改Conda源"
   ]
  }
 ],
 "metadata": {
  "kernelspec": {
   "display_name": "Python 3",
   "language": "python",
   "name": "python3"
  },
  "language_info": {
   "codemirror_mode": {
    "name": "ipython",
    "version": 3
   },
   "file_extension": ".py",
   "mimetype": "text/x-python",
   "name": "python",
   "nbconvert_exporter": "python",
   "pygments_lexer": "ipython3",
   "version": "3.7.6"
  }
 },
 "nbformat": 4,
 "nbformat_minor": 4
}
